{
  "nbformat": 4,
  "nbformat_minor": 0,
  "metadata": {
    "colab": {
      "provenance": [],
      "authorship_tag": "ABX9TyOen9+af3XGL16IdwIrkTq0",
      "include_colab_link": true
    },
    "kernelspec": {
      "name": "python3",
      "display_name": "Python 3"
    },
    "language_info": {
      "name": "python"
    }
  },
  "cells": [
    {
      "cell_type": "markdown",
      "metadata": {
        "id": "view-in-github",
        "colab_type": "text"
      },
      "source": [
        "<a href=\"https://colab.research.google.com/github/SyedBabarMehmoodZaidi/Calculator_Greeting_Grade_Assignment/blob/main/SimpleCalculator.ipynb\" target=\"_parent\"><img src=\"https://colab.research.google.com/assets/colab-badge.svg\" alt=\"Open In Colab\"/></a>"
      ]
    },
    {
      "cell_type": "code",
      "execution_count": 16,
      "metadata": {
        "colab": {
          "base_uri": "https://localhost:8080/"
        },
        "id": "LuuyOG4EaCu3",
        "outputId": "5e22ee0e-7db4-4359-8b16-3f15aaeec372"
      },
      "outputs": [
        {
          "output_type": "stream",
          "name": "stdout",
          "text": [
            "Simple Calculator\n",
            "Select Operation\n",
            "Addition\n",
            "Subtraction\n",
            "Multiplication\n",
            "Division\n",
            "Select Your Operator: Division\n",
            "Enter First Number: 64\n",
            "Enter Second Number: 4\n",
            "Result: 64 / 4 = 16.0\n"
          ]
        }
      ],
      "source": [
        "def calculator():\n",
        "  print(\"Simple Calculator\")\n",
        "  print(\"Select Operation\")\n",
        "  print(\"Addition\")\n",
        "  print(\"Subtraction\")\n",
        "  print(\"Multiplication\")\n",
        "  print(\"Division\")\n",
        "\n",
        "  operation = input(\"Select Your Operator: \")\n",
        "\n",
        "  if operation in (\"Addition\", \"Subtraction\", \"Multiplication\", \"Division\"):\n",
        "    num1 = int(input(\"Enter First Number: \"))\n",
        "    num2 = int(input(\"Enter Second Number: \"))\n",
        "\n",
        "    if operation == \"Addition\":\n",
        "      print(f\"Result: {num1} + {num2} = {num1 + num2}\")\n",
        "    elif operation == \"Subtraction\":\n",
        "      print(f\"Result: {num1} - {num2} = {num1 - num2}\")\n",
        "    elif operation == \"Multiplication\":\n",
        "      print(f\"Result: {num1} * {num2} = {num1 * num2}\")\n",
        "    elif operation == \"Division\":\n",
        "      print(f\"Result: {num1} / {num2} = {num1 / num2}\")\n",
        "    else:\n",
        "      print(\"Invalid Operator\")\n",
        "\n",
        "calculator()"
      ]
    },
    {
      "cell_type": "code",
      "source": [
        "def calculate_grade(percentage):\n",
        "    if percentage >= 90:\n",
        "        return \"A+\", \"Excellent! You have done a fantastic job!\"\n",
        "    elif percentage >= 80:\n",
        "        return \"A\", \"Very good! You are performing well.\"\n",
        "    elif percentage >= 70:\n",
        "        return \"B\", \"Good effort! need to improvement.\"\n",
        "    elif percentage >= 60:\n",
        "        return \"C\", \"Fair! But you need to work harder.\"\n",
        "    elif percentage >= 50:\n",
        "        return \"D\", \"You passed, but aim for a better score.\"\n",
        "    elif percentage >= 40:\n",
        "        return \"E\", \"Needs improvement! Try harder next time.\"\n",
        "    else:\n",
        "        return \"Fail\", \"Unfortunately, you need to put in more effort.\"\n",
        "\n",
        "# Enter User Percentage\n",
        "percentage = float(input(\"Enter Your Percentage: \"))\n",
        "\n",
        "# Get GRade and Remaeks\n",
        "grade, remarks = calculate_grade(percentage)\n",
        "\n",
        "# Result print\n",
        "print(f\"Your percentage is {percentage:.2f}%, your grade is {grade}. {remarks}\")\n",
        "\n",
        "\n"
      ],
      "metadata": {
        "colab": {
          "base_uri": "https://localhost:8080/"
        },
        "id": "ypKi9UH6trWt",
        "outputId": "837a6bfb-286e-4662-cb56-232dc22e5821"
      },
      "execution_count": 27,
      "outputs": [
        {
          "output_type": "stream",
          "name": "stdout",
          "text": [
            "Enter Your Percentage: 95\n",
            "Your percentage is 95.00%, your grade is A+. Excellent! You have done a fantastic job!\n"
          ]
        }
      ]
    }
  ]
}